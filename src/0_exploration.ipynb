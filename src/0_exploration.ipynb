{
 "cells": [
  {
   "cell_type": "code",
   "execution_count": 1,
   "id": "4ee56f49-493b-46d3-b9eb-573942ba6e7e",
   "metadata": {},
   "outputs": [],
   "source": [
    "import os\n",
    "import sys\n",
    "\n",
    "import numpy as np\n",
    "import pandas as pd\n",
    "\n",
    "\n",
    "import matplotlib.pyplot as plt\n",
    "import seaborn as sns "
   ]
  },
  {
   "cell_type": "markdown",
   "id": "f2c12b81-326d-4780-bfc8-7479b7c5b8d8",
   "metadata": {},
   "source": [
    "# Reading the DATA: "
   ]
  },
  {
   "cell_type": "code",
   "execution_count": 2,
   "id": "25ad637b-87e5-4e6c-bac8-f1bcbb923f6f",
   "metadata": {},
   "outputs": [
    {
     "data": {
      "text/plain": [
       "['GSE131512_metaData.xlsx',\n",
       " 'GSE131512_normalTPM.txt',\n",
       " 'validation_bc_meta.xlsx',\n",
       " 'pnas_patient_info.csv',\n",
       " 'validation_normal_meta.xlsx',\n",
       " 'GSE131512_cancerTPM.txt']"
      ]
     },
     "execution_count": 2,
     "metadata": {},
     "output_type": "execute_result"
    }
   ],
   "source": [
    "# The data comes from \n",
    "os.listdir(\"../../project_data/\")"
   ]
  },
  {
   "cell_type": "markdown",
   "id": "d18fb38e-cf80-4893-a6dc-22ed11fedc70",
   "metadata": {},
   "source": [
    "## Metadata"
   ]
  },
  {
   "cell_type": "code",
   "execution_count": 3,
   "id": "8a6a4be6-12d5-40c6-ba7a-bf0c04c22927",
   "metadata": {},
   "outputs": [],
   "source": [
    "# Metadata from the GEO page\n",
    "filepath = \"../../project_data/GSE131512_metaData.xlsx\"\n",
    "metadata = pd.read_excel(filepath)\n",
    "\n",
    "# metadata for validation datasets from the github (not sure which samples it is referencing)\n",
    "filepath = \"../../project_data/validation_bc_meta.xlsx\"\n",
    "validation_bc_meta = pd.read_excel(filepath)\n",
    "filepath = \"../../project_data/validation_normal_meta.xlsx\"\n",
    "validation_normal_meta = pd.read_excel(filepath)\n",
    "\n",
    "# additional metadata about cancer subtypes for the 96 cancer patients\n",
    "filepath = \"../../project_data/pnas_patient_info.csv\"\n",
    "patient_info = pd.read_csv(filepath)"
   ]
  },
  {
   "cell_type": "code",
   "execution_count": 85,
   "id": "1eaf72ea-1047-4ee3-b0ed-c5acde8b99cb",
   "metadata": {},
   "outputs": [
    {
     "data": {
      "text/plain": [
       "((128, 9), (96, 32), (78, 3), (83, 4))"
      ]
     },
     "execution_count": 85,
     "metadata": {},
     "output_type": "execute_result"
    }
   ],
   "source": [
    "# checking the shapes of the metadata to see if they fit expectation\n",
    "metadata.shape,patient_info.shape, validation_normal_meta.shape, validation_bc_meta.shape"
   ]
  },
  {
   "cell_type": "code",
   "execution_count": 54,
   "id": "b1663d58-7e09-4f91-856c-70e7a8d6de60",
   "metadata": {},
   "outputs": [],
   "source": [
    "# Adding a chemo duration, and time from chemo end to recurrence fields\n",
    "dt_end = pd.to_datetime(patient_info['datechemoend'], format=\"%d/%m/%Y\")\n",
    "dt_start = pd.to_datetime(patient_info['datechemostart'], format=\"%d/%m/%Y\")\n",
    "dt_recurrence = pd.to_datetime(patient_info['daterecurrence'], format=\"%d/%m/%Y\")\n",
    "patient_info['chemo_duration'] = (dt_end - dt_start).dt.days\n",
    "patient_info['recurrence_time'] = (dt_recurrence - dt_end).dt.days"
   ]
  },
  {
   "cell_type": "code",
   "execution_count": 58,
   "id": "a213a2b0-078c-459c-b9f7-643f402e6fcf",
   "metadata": {},
   "outputs": [],
   "source": [
    "# Joining the two metadatas together)\n",
    "metadata = pd.concat([metadata, \n",
    "                      patient_info[['cancertype', 'cancerstage_cat', 'chemo_duration', 'recurrence_time',  'chemo', 'recurStatus']]], \n",
    "                     axis=1, join='outer')\n",
    "# setting the recurrence time for those that don't have recurrence to nan\n",
    "metadata.loc[metadata.recurStatus == 'N', 'recurrence_time'] = np.nan\n",
    "\n",
    "# writing the result out in a csv\n",
    "metadata.to_csv('../data/metadata.csv')"
   ]
  },
  {
   "cell_type": "markdown",
   "id": "6a6944e3-80c1-408e-97b7-9551ba1b6c3c",
   "metadata": {},
   "source": [
    "## TPM data"
   ]
  },
  {
   "cell_type": "code",
   "execution_count": 22,
   "id": "66c0f903-53d0-4952-b0f5-145f10719791",
   "metadata": {},
   "outputs": [],
   "source": [
    "normal_df = pd.read_csv(\"../../project_data/GSE131512_normalTPM.txt\", delimiter = '\\t')\n",
    "cancer_df = pd.read_csv(\"../../project_data/GSE131512_cancerTPM.txt\", delimiter = '\\t')"
   ]
  },
  {
   "cell_type": "code",
   "execution_count": 23,
   "id": "a50ecf78-ee2a-4711-9e2f-1e3ac097e529",
   "metadata": {},
   "outputs": [
    {
     "data": {
      "text/plain": [
       "((60675, 32), (60675, 96))"
      ]
     },
     "execution_count": 23,
     "metadata": {},
     "output_type": "execute_result"
    }
   ],
   "source": [
    "normal_df.shape, cancer_df.shape"
   ]
  }
 ],
 "metadata": {
  "kernelspec": {
   "display_name": "Python 3 (ipykernel)",
   "language": "python",
   "name": "python3"
  },
  "language_info": {
   "codemirror_mode": {
    "name": "ipython",
    "version": 3
   },
   "file_extension": ".py",
   "mimetype": "text/x-python",
   "name": "python",
   "nbconvert_exporter": "python",
   "pygments_lexer": "ipython3",
   "version": "3.12.2"
  }
 },
 "nbformat": 4,
 "nbformat_minor": 5
}
