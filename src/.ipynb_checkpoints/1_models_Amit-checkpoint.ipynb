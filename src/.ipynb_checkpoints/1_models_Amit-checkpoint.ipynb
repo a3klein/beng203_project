{
 "cells": [
  {
   "cell_type": "markdown",
   "id": "8ddbbe80-77ff-443e-ad73-22148c273619",
   "metadata": {},
   "source": [
    "## Predicting Recurrence/Non-Recurrence in Breast Cancer"
   ]
  },
  {
   "cell_type": "code",
   "execution_count": 19,
   "id": "e2158dca-a5ad-4fd2-a246-fe2dc8143a42",
   "metadata": {},
   "outputs": [],
   "source": [
    "# Basic \n",
    "import pandas as pd\n",
    "import numpy as np\n",
    "import pickle\n",
    "\n",
    "# Plotting \n",
    "import matplotlib.pyplot as plt\n",
    "import seaborn as sns\n",
    "\n",
    "# Sklearn \n",
    "from sklearn.ensemble import RandomForestClassifier\n",
    "from sklearn.svm import SVC\n",
    "from sklearn.ensemble import GradientBoostingClassifier\n",
    "from sklearn.preprocessing import StandardScaler\n",
    "from sklearn.model_selection import cross_val_score\n",
    "from sklearn.linear_model import LogisticRegression, ElasticNet\n",
    "from sklearn.decomposition import PCA"
   ]
  },
  {
   "cell_type": "markdown",
   "id": "f50d096f",
   "metadata": {},
   "source": [
    "## Data Preparation"
   ]
  },
  {
   "cell_type": "markdown",
   "id": "5fe70da1-b674-4770-ba3e-3a667fd97985",
   "metadata": {},
   "source": [
    "### Read in Dataset"
   ]
  },
  {
   "cell_type": "code",
   "execution_count": 21,
   "id": "9db07eab-d2a2-40d9-9cd2-9edfbcdc34af",
   "metadata": {},
   "outputs": [],
   "source": [
    "# Dataset Filepaths: \n",
    "big_NR = \"../data/large_transformed_cancer_dataset.pandas\"\n",
    "big_NC = \"../data/large_transformed_dataset.pandas\"\n",
    "pr_NR = \"../data/prior_transformed_cancer_dataset.pandas\"\n",
    "pr_NC = \"../data/prior_transformed_dataset.pandas\"\n",
    "ak_NC = \"../data/prior_wgcnaAK_dataset.pandas\"\n",
    "ak_NC_mod = \"../data/prior_wgcnaAK_mod_dataset.pandas\"\n",
    "\n",
    "with open(ak_NC, 'rb') as f: \n",
    "    df_data = pickle.load(f)\n",
    "\n",
    "# df_data"
   ]
  },
  {
   "cell_type": "code",
   "execution_count": 30,
   "id": "2ec3a6b8-aea7-4b76-83a1-90350eae57c7",
   "metadata": {},
   "outputs": [],
   "source": [
    "metadata = pd.read_csv(\"../data/metadata.csv\")\n",
    "status = metadata.recurStatus.values\n",
    "y_true = []\n",
    "# Recurrent vs. Non-recurrent \n",
    "# for c in status: \n",
    "#     if c == 'R': \n",
    "#         y_true.append(1)\n",
    "#     elif c == \"N\": \n",
    "#         y_true.append(0)\n",
    "\n",
    "# For cancer vs. non-cancer\n",
    "for c in status: \n",
    "    if c == \"R\" or c == \"N\": \n",
    "        y_true.append(1)\n",
    "    else:\n",
    "        y_true.append(0)"
   ]
  },
  {
   "cell_type": "code",
   "execution_count": 31,
   "id": "cd553592-4d03-4a06-b956-992d4cc30186",
   "metadata": {},
   "outputs": [],
   "source": [
    "X = df_data.values\n",
    "y = y_true"
   ]
  },
  {
   "cell_type": "markdown",
   "id": "1cd20148-cffe-48bd-bf56-a3fe1e5319d0",
   "metadata": {
    "jp-MarkdownHeadingCollapsed": true
   },
   "source": [
    "## Zach stuff"
   ]
  },
  {
   "cell_type": "markdown",
   "id": "fb639b50-f964-4e45-9e18-7c5cd3557777",
   "metadata": {
    "jp-MarkdownHeadingCollapsed": true
   },
   "source": [
    "### Read in cancer data and metadata"
   ]
  },
  {
   "cell_type": "code",
   "execution_count": 98,
   "id": "72a83922-e72c-4bcd-9496-012ab3f71186",
   "metadata": {},
   "outputs": [],
   "source": [
    "cancer = pd.read_csv(\"data/GSE131512_cancerTPM.txt\", sep = '\\t')\n",
    "metadata = pd.read_csv(\"data/metadata.csv\")"
   ]
  },
  {
   "cell_type": "code",
   "execution_count": 99,
   "id": "717a07d8",
   "metadata": {},
   "outputs": [
    {
     "data": {
      "text/plain": [
       "(60675, 96)"
      ]
     },
     "execution_count": 99,
     "metadata": {},
     "output_type": "execute_result"
    }
   ],
   "source": [
    "cancer.shape"
   ]
  },
  {
   "cell_type": "code",
   "execution_count": 100,
   "id": "6d459f98",
   "metadata": {},
   "outputs": [
    {
     "data": {
      "text/plain": [
       "(128, 10)"
      ]
     },
     "execution_count": 100,
     "metadata": {},
     "output_type": "execute_result"
    }
   ],
   "source": [
    "metadata.shape"
   ]
  },
  {
   "cell_type": "markdown",
   "id": "c317da70",
   "metadata": {
    "jp-MarkdownHeadingCollapsed": true
   },
   "source": [
    "### Map each ENSG ID to Gene IDs"
   ]
  },
  {
   "cell_type": "code",
   "execution_count": 101,
   "id": "33237686",
   "metadata": {},
   "outputs": [
    {
     "data": {
      "text/plain": [
       "(41355, 96)"
      ]
     },
     "execution_count": 101,
     "metadata": {},
     "output_type": "execute_result"
    }
   ],
   "source": [
    "ens_to_sym = pd.read_csv(\"data/ensembl_to_symbol.txt\", sep = '\\t')\n",
    "ens_to_sym = ens_to_sym.dropna()\n",
    "ens_to_sym = dict(zip(ens_to_sym.Ensembl, ens_to_sym.Symbol))\n",
    "keep = set(list(cancer.index)).intersection(set(ens_to_sym.keys()))\n",
    "ens_to_sym = {k: ens_to_sym[k] for k in keep}\n",
    "cancer = cancer[cancer.index.isin(ens_to_sym.keys())]\n",
    "cancer = cancer.rename(index=ens_to_sym)\n",
    "cancer.shape"
   ]
  },
  {
   "cell_type": "code",
   "execution_count": 102,
   "id": "90fef9f9",
   "metadata": {},
   "outputs": [
    {
     "data": {
      "text/html": [
       "<div>\n",
       "<style scoped>\n",
       "    .dataframe tbody tr th:only-of-type {\n",
       "        vertical-align: middle;\n",
       "    }\n",
       "\n",
       "    .dataframe tbody tr th {\n",
       "        vertical-align: top;\n",
       "    }\n",
       "\n",
       "    .dataframe thead th {\n",
       "        text-align: right;\n",
       "    }\n",
       "</style>\n",
       "<table border=\"1\" class=\"dataframe\">\n",
       "  <thead>\n",
       "    <tr style=\"text-align: right;\">\n",
       "      <th></th>\n",
       "      <th>C1</th>\n",
       "      <th>C2</th>\n",
       "      <th>C3</th>\n",
       "      <th>C4</th>\n",
       "      <th>C5</th>\n",
       "      <th>C6</th>\n",
       "      <th>C7</th>\n",
       "      <th>C8</th>\n",
       "      <th>C9</th>\n",
       "      <th>C10</th>\n",
       "      <th>...</th>\n",
       "      <th>C87</th>\n",
       "      <th>C88</th>\n",
       "      <th>C89</th>\n",
       "      <th>C90</th>\n",
       "      <th>C91</th>\n",
       "      <th>C92</th>\n",
       "      <th>C93</th>\n",
       "      <th>C94</th>\n",
       "      <th>C95</th>\n",
       "      <th>C96</th>\n",
       "    </tr>\n",
       "  </thead>\n",
       "  <tbody>\n",
       "    <tr>\n",
       "      <th>TSPAN6</th>\n",
       "      <td>7.071605</td>\n",
       "      <td>60.610797</td>\n",
       "      <td>58.255903</td>\n",
       "      <td>29.917356</td>\n",
       "      <td>24.500322</td>\n",
       "      <td>25.311091</td>\n",
       "      <td>37.394452</td>\n",
       "      <td>15.354658</td>\n",
       "      <td>24.839014</td>\n",
       "      <td>24.591295</td>\n",
       "      <td>...</td>\n",
       "      <td>14.134044</td>\n",
       "      <td>10.803910</td>\n",
       "      <td>6.068982</td>\n",
       "      <td>12.714350</td>\n",
       "      <td>15.983392</td>\n",
       "      <td>0.000000</td>\n",
       "      <td>38.189128</td>\n",
       "      <td>15.608352</td>\n",
       "      <td>51.519267</td>\n",
       "      <td>30.805593</td>\n",
       "    </tr>\n",
       "    <tr>\n",
       "      <th>TNMD</th>\n",
       "      <td>13.279391</td>\n",
       "      <td>47.424080</td>\n",
       "      <td>60.455497</td>\n",
       "      <td>6.482332</td>\n",
       "      <td>53.675826</td>\n",
       "      <td>31.686900</td>\n",
       "      <td>32.409716</td>\n",
       "      <td>0.000000</td>\n",
       "      <td>48.976056</td>\n",
       "      <td>46.178684</td>\n",
       "      <td>...</td>\n",
       "      <td>0.000000</td>\n",
       "      <td>12.172853</td>\n",
       "      <td>136.759411</td>\n",
       "      <td>28.650721</td>\n",
       "      <td>0.000000</td>\n",
       "      <td>0.000000</td>\n",
       "      <td>5.976111</td>\n",
       "      <td>6.280734</td>\n",
       "      <td>241.863225</td>\n",
       "      <td>0.000000</td>\n",
       "    </tr>\n",
       "    <tr>\n",
       "      <th>DPM1</th>\n",
       "      <td>0.000000</td>\n",
       "      <td>0.000000</td>\n",
       "      <td>23.040206</td>\n",
       "      <td>8.646690</td>\n",
       "      <td>20.456404</td>\n",
       "      <td>42.266702</td>\n",
       "      <td>21.615428</td>\n",
       "      <td>11.538256</td>\n",
       "      <td>18.665274</td>\n",
       "      <td>76.996356</td>\n",
       "      <td>...</td>\n",
       "      <td>79.657691</td>\n",
       "      <td>8.118597</td>\n",
       "      <td>0.000000</td>\n",
       "      <td>0.000000</td>\n",
       "      <td>0.000000</td>\n",
       "      <td>179.178412</td>\n",
       "      <td>15.942897</td>\n",
       "      <td>0.000000</td>\n",
       "      <td>0.000000</td>\n",
       "      <td>0.000000</td>\n",
       "    </tr>\n",
       "    <tr>\n",
       "      <th>SCYL3</th>\n",
       "      <td>6.212355</td>\n",
       "      <td>2.218590</td>\n",
       "      <td>12.120963</td>\n",
       "      <td>6.065120</td>\n",
       "      <td>16.142519</td>\n",
       "      <td>37.059356</td>\n",
       "      <td>7.580945</td>\n",
       "      <td>0.000000</td>\n",
       "      <td>0.000000</td>\n",
       "      <td>21.603278</td>\n",
       "      <td>...</td>\n",
       "      <td>18.624986</td>\n",
       "      <td>15.660412</td>\n",
       "      <td>33.988677</td>\n",
       "      <td>0.000000</td>\n",
       "      <td>36.858404</td>\n",
       "      <td>83.788404</td>\n",
       "      <td>18.172309</td>\n",
       "      <td>2.938248</td>\n",
       "      <td>14.547636</td>\n",
       "      <td>10.148436</td>\n",
       "    </tr>\n",
       "    <tr>\n",
       "      <th>FIRRM</th>\n",
       "      <td>34.038592</td>\n",
       "      <td>35.828348</td>\n",
       "      <td>55.926653</td>\n",
       "      <td>10.494273</td>\n",
       "      <td>14.482668</td>\n",
       "      <td>19.236768</td>\n",
       "      <td>13.117055</td>\n",
       "      <td>4.667898</td>\n",
       "      <td>18.877984</td>\n",
       "      <td>12.459809</td>\n",
       "      <td>...</td>\n",
       "      <td>17.903438</td>\n",
       "      <td>19.706680</td>\n",
       "      <td>23.062537</td>\n",
       "      <td>1.932615</td>\n",
       "      <td>28.344382</td>\n",
       "      <td>3.020339</td>\n",
       "      <td>27.411791</td>\n",
       "      <td>1.694651</td>\n",
       "      <td>3.729079</td>\n",
       "      <td>7.804221</td>\n",
       "    </tr>\n",
       "  </tbody>\n",
       "</table>\n",
       "<p>5 rows × 96 columns</p>\n",
       "</div>"
      ],
      "text/plain": [
       "               C1         C2         C3         C4         C5         C6  \\\n",
       "TSPAN6   7.071605  60.610797  58.255903  29.917356  24.500322  25.311091   \n",
       "TNMD    13.279391  47.424080  60.455497   6.482332  53.675826  31.686900   \n",
       "DPM1     0.000000   0.000000  23.040206   8.646690  20.456404  42.266702   \n",
       "SCYL3    6.212355   2.218590  12.120963   6.065120  16.142519  37.059356   \n",
       "FIRRM   34.038592  35.828348  55.926653  10.494273  14.482668  19.236768   \n",
       "\n",
       "               C7         C8         C9        C10  ...        C87        C88  \\\n",
       "TSPAN6  37.394452  15.354658  24.839014  24.591295  ...  14.134044  10.803910   \n",
       "TNMD    32.409716   0.000000  48.976056  46.178684  ...   0.000000  12.172853   \n",
       "DPM1    21.615428  11.538256  18.665274  76.996356  ...  79.657691   8.118597   \n",
       "SCYL3    7.580945   0.000000   0.000000  21.603278  ...  18.624986  15.660412   \n",
       "FIRRM   13.117055   4.667898  18.877984  12.459809  ...  17.903438  19.706680   \n",
       "\n",
       "               C89        C90        C91         C92        C93        C94  \\\n",
       "TSPAN6    6.068982  12.714350  15.983392    0.000000  38.189128  15.608352   \n",
       "TNMD    136.759411  28.650721   0.000000    0.000000   5.976111   6.280734   \n",
       "DPM1      0.000000   0.000000   0.000000  179.178412  15.942897   0.000000   \n",
       "SCYL3    33.988677   0.000000  36.858404   83.788404  18.172309   2.938248   \n",
       "FIRRM    23.062537   1.932615  28.344382    3.020339  27.411791   1.694651   \n",
       "\n",
       "               C95        C96  \n",
       "TSPAN6   51.519267  30.805593  \n",
       "TNMD    241.863225   0.000000  \n",
       "DPM1      0.000000   0.000000  \n",
       "SCYL3    14.547636  10.148436  \n",
       "FIRRM     3.729079   7.804221  \n",
       "\n",
       "[5 rows x 96 columns]"
      ]
     },
     "execution_count": 102,
     "metadata": {},
     "output_type": "execute_result"
    }
   ],
   "source": [
    "cancer.head()"
   ]
  },
  {
   "cell_type": "markdown",
   "id": "4f01a914",
   "metadata": {},
   "source": [
    "### Filter for the Prior Association Genes"
   ]
  },
  {
   "cell_type": "code",
   "execution_count": 103,
   "id": "f21b14c6",
   "metadata": {},
   "outputs": [],
   "source": [
    "prior = \"data/prior_association.txt\"\n",
    "with open(prior) as data:\n",
    "    lines = [line.rstrip() for line in data]\n",
    "prior = lines[0]\n",
    "prior = prior.split(\", \")\n",
    "prior = list(set(prior))\n",
    "cancer = cancer[cancer.index.isin(prior)]\n",
    "cancer = cancer.transpose()\n",
    "scaler = StandardScaler()\n",
    "cancer = scaler.fit_transform(cancer)\n",
    "status = list(metadata[\"recurStatus\"])\n",
    "binary = []\n",
    "for c in status:\n",
    "    if c == \"R\":\n",
    "        binary.append(1)\n",
    "    elif c == \"N\":\n",
    "        binary.append(0)\n",
    "X = cancer\n",
    "y = binary"
   ]
  },
  {
   "cell_type": "markdown",
   "id": "1a50e7e3",
   "metadata": {},
   "source": [
    "## Modeling"
   ]
  },
  {
   "cell_type": "markdown",
   "id": "ad615739",
   "metadata": {},
   "source": [
    "Explore some models, such as SVM, Logistic Regression, Random Forest Classifier, and Gradient Boosted Classifier"
   ]
  },
  {
   "cell_type": "markdown",
   "id": "97343b14",
   "metadata": {},
   "source": [
    "### SVM"
   ]
  },
  {
   "cell_type": "code",
   "execution_count": 32,
   "id": "13c7a21f",
   "metadata": {},
   "outputs": [
    {
     "ename": "ValueError",
     "evalue": "Found input variables with inconsistent numbers of samples: [96, 128]",
     "output_type": "error",
     "traceback": [
      "\u001b[0;31m---------------------------------------------------------------------------\u001b[0m",
      "\u001b[0;31mValueError\u001b[0m                                Traceback (most recent call last)",
      "Cell \u001b[0;32mIn[32], line 2\u001b[0m\n\u001b[1;32m      1\u001b[0m clf \u001b[38;5;241m=\u001b[39m SVC(C \u001b[38;5;241m=\u001b[39m \u001b[38;5;241m3\u001b[39m)\n\u001b[0;32m----> 2\u001b[0m scores \u001b[38;5;241m=\u001b[39m cross_val_score(clf, X, y, scoring \u001b[38;5;241m=\u001b[39m \u001b[38;5;124m'\u001b[39m\u001b[38;5;124mroc_auc\u001b[39m\u001b[38;5;124m'\u001b[39m, cv\u001b[38;5;241m=\u001b[39m\u001b[38;5;241m10\u001b[39m)\n\u001b[1;32m      3\u001b[0m \u001b[38;5;28mprint\u001b[39m(\u001b[38;5;124m\"\u001b[39m\u001b[38;5;124mAverage AUROC with 10-fold CV:\u001b[39m\u001b[38;5;124m\"\u001b[39m, scores\u001b[38;5;241m.\u001b[39mmean())\n",
      "File \u001b[0;32m~/miniconda3/envs/beng203/lib/python3.12/site-packages/sklearn/utils/_param_validation.py:213\u001b[0m, in \u001b[0;36mvalidate_params.<locals>.decorator.<locals>.wrapper\u001b[0;34m(*args, **kwargs)\u001b[0m\n\u001b[1;32m    207\u001b[0m \u001b[38;5;28;01mtry\u001b[39;00m:\n\u001b[1;32m    208\u001b[0m     \u001b[38;5;28;01mwith\u001b[39;00m config_context(\n\u001b[1;32m    209\u001b[0m         skip_parameter_validation\u001b[38;5;241m=\u001b[39m(\n\u001b[1;32m    210\u001b[0m             prefer_skip_nested_validation \u001b[38;5;129;01mor\u001b[39;00m global_skip_validation\n\u001b[1;32m    211\u001b[0m         )\n\u001b[1;32m    212\u001b[0m     ):\n\u001b[0;32m--> 213\u001b[0m         \u001b[38;5;28;01mreturn\u001b[39;00m func(\u001b[38;5;241m*\u001b[39margs, \u001b[38;5;241m*\u001b[39m\u001b[38;5;241m*\u001b[39mkwargs)\n\u001b[1;32m    214\u001b[0m \u001b[38;5;28;01mexcept\u001b[39;00m InvalidParameterError \u001b[38;5;28;01mas\u001b[39;00m e:\n\u001b[1;32m    215\u001b[0m     \u001b[38;5;66;03m# When the function is just a wrapper around an estimator, we allow\u001b[39;00m\n\u001b[1;32m    216\u001b[0m     \u001b[38;5;66;03m# the function to delegate validation to the estimator, but we replace\u001b[39;00m\n\u001b[1;32m    217\u001b[0m     \u001b[38;5;66;03m# the name of the estimator by the name of the function in the error\u001b[39;00m\n\u001b[1;32m    218\u001b[0m     \u001b[38;5;66;03m# message to avoid confusion.\u001b[39;00m\n\u001b[1;32m    219\u001b[0m     msg \u001b[38;5;241m=\u001b[39m re\u001b[38;5;241m.\u001b[39msub(\n\u001b[1;32m    220\u001b[0m         \u001b[38;5;124mr\u001b[39m\u001b[38;5;124m\"\u001b[39m\u001b[38;5;124mparameter of \u001b[39m\u001b[38;5;124m\\\u001b[39m\u001b[38;5;124mw+ must be\u001b[39m\u001b[38;5;124m\"\u001b[39m,\n\u001b[1;32m    221\u001b[0m         \u001b[38;5;124mf\u001b[39m\u001b[38;5;124m\"\u001b[39m\u001b[38;5;124mparameter of \u001b[39m\u001b[38;5;132;01m{\u001b[39;00mfunc\u001b[38;5;241m.\u001b[39m\u001b[38;5;18m__qualname__\u001b[39m\u001b[38;5;132;01m}\u001b[39;00m\u001b[38;5;124m must be\u001b[39m\u001b[38;5;124m\"\u001b[39m,\n\u001b[1;32m    222\u001b[0m         \u001b[38;5;28mstr\u001b[39m(e),\n\u001b[1;32m    223\u001b[0m     )\n",
      "File \u001b[0;32m~/miniconda3/envs/beng203/lib/python3.12/site-packages/sklearn/model_selection/_validation.py:712\u001b[0m, in \u001b[0;36mcross_val_score\u001b[0;34m(estimator, X, y, groups, scoring, cv, n_jobs, verbose, fit_params, params, pre_dispatch, error_score)\u001b[0m\n\u001b[1;32m    709\u001b[0m \u001b[38;5;66;03m# To ensure multimetric format is not supported\u001b[39;00m\n\u001b[1;32m    710\u001b[0m scorer \u001b[38;5;241m=\u001b[39m check_scoring(estimator, scoring\u001b[38;5;241m=\u001b[39mscoring)\n\u001b[0;32m--> 712\u001b[0m cv_results \u001b[38;5;241m=\u001b[39m cross_validate(\n\u001b[1;32m    713\u001b[0m     estimator\u001b[38;5;241m=\u001b[39mestimator,\n\u001b[1;32m    714\u001b[0m     X\u001b[38;5;241m=\u001b[39mX,\n\u001b[1;32m    715\u001b[0m     y\u001b[38;5;241m=\u001b[39my,\n\u001b[1;32m    716\u001b[0m     groups\u001b[38;5;241m=\u001b[39mgroups,\n\u001b[1;32m    717\u001b[0m     scoring\u001b[38;5;241m=\u001b[39m{\u001b[38;5;124m\"\u001b[39m\u001b[38;5;124mscore\u001b[39m\u001b[38;5;124m\"\u001b[39m: scorer},\n\u001b[1;32m    718\u001b[0m     cv\u001b[38;5;241m=\u001b[39mcv,\n\u001b[1;32m    719\u001b[0m     n_jobs\u001b[38;5;241m=\u001b[39mn_jobs,\n\u001b[1;32m    720\u001b[0m     verbose\u001b[38;5;241m=\u001b[39mverbose,\n\u001b[1;32m    721\u001b[0m     fit_params\u001b[38;5;241m=\u001b[39mfit_params,\n\u001b[1;32m    722\u001b[0m     params\u001b[38;5;241m=\u001b[39mparams,\n\u001b[1;32m    723\u001b[0m     pre_dispatch\u001b[38;5;241m=\u001b[39mpre_dispatch,\n\u001b[1;32m    724\u001b[0m     error_score\u001b[38;5;241m=\u001b[39merror_score,\n\u001b[1;32m    725\u001b[0m )\n\u001b[1;32m    726\u001b[0m \u001b[38;5;28;01mreturn\u001b[39;00m cv_results[\u001b[38;5;124m\"\u001b[39m\u001b[38;5;124mtest_score\u001b[39m\u001b[38;5;124m\"\u001b[39m]\n",
      "File \u001b[0;32m~/miniconda3/envs/beng203/lib/python3.12/site-packages/sklearn/utils/_param_validation.py:213\u001b[0m, in \u001b[0;36mvalidate_params.<locals>.decorator.<locals>.wrapper\u001b[0;34m(*args, **kwargs)\u001b[0m\n\u001b[1;32m    207\u001b[0m \u001b[38;5;28;01mtry\u001b[39;00m:\n\u001b[1;32m    208\u001b[0m     \u001b[38;5;28;01mwith\u001b[39;00m config_context(\n\u001b[1;32m    209\u001b[0m         skip_parameter_validation\u001b[38;5;241m=\u001b[39m(\n\u001b[1;32m    210\u001b[0m             prefer_skip_nested_validation \u001b[38;5;129;01mor\u001b[39;00m global_skip_validation\n\u001b[1;32m    211\u001b[0m         )\n\u001b[1;32m    212\u001b[0m     ):\n\u001b[0;32m--> 213\u001b[0m         \u001b[38;5;28;01mreturn\u001b[39;00m func(\u001b[38;5;241m*\u001b[39margs, \u001b[38;5;241m*\u001b[39m\u001b[38;5;241m*\u001b[39mkwargs)\n\u001b[1;32m    214\u001b[0m \u001b[38;5;28;01mexcept\u001b[39;00m InvalidParameterError \u001b[38;5;28;01mas\u001b[39;00m e:\n\u001b[1;32m    215\u001b[0m     \u001b[38;5;66;03m# When the function is just a wrapper around an estimator, we allow\u001b[39;00m\n\u001b[1;32m    216\u001b[0m     \u001b[38;5;66;03m# the function to delegate validation to the estimator, but we replace\u001b[39;00m\n\u001b[1;32m    217\u001b[0m     \u001b[38;5;66;03m# the name of the estimator by the name of the function in the error\u001b[39;00m\n\u001b[1;32m    218\u001b[0m     \u001b[38;5;66;03m# message to avoid confusion.\u001b[39;00m\n\u001b[1;32m    219\u001b[0m     msg \u001b[38;5;241m=\u001b[39m re\u001b[38;5;241m.\u001b[39msub(\n\u001b[1;32m    220\u001b[0m         \u001b[38;5;124mr\u001b[39m\u001b[38;5;124m\"\u001b[39m\u001b[38;5;124mparameter of \u001b[39m\u001b[38;5;124m\\\u001b[39m\u001b[38;5;124mw+ must be\u001b[39m\u001b[38;5;124m\"\u001b[39m,\n\u001b[1;32m    221\u001b[0m         \u001b[38;5;124mf\u001b[39m\u001b[38;5;124m\"\u001b[39m\u001b[38;5;124mparameter of \u001b[39m\u001b[38;5;132;01m{\u001b[39;00mfunc\u001b[38;5;241m.\u001b[39m\u001b[38;5;18m__qualname__\u001b[39m\u001b[38;5;132;01m}\u001b[39;00m\u001b[38;5;124m must be\u001b[39m\u001b[38;5;124m\"\u001b[39m,\n\u001b[1;32m    222\u001b[0m         \u001b[38;5;28mstr\u001b[39m(e),\n\u001b[1;32m    223\u001b[0m     )\n",
      "File \u001b[0;32m~/miniconda3/envs/beng203/lib/python3.12/site-packages/sklearn/model_selection/_validation.py:351\u001b[0m, in \u001b[0;36mcross_validate\u001b[0;34m(estimator, X, y, groups, scoring, cv, n_jobs, verbose, fit_params, params, pre_dispatch, return_train_score, return_estimator, return_indices, error_score)\u001b[0m\n\u001b[1;32m    140\u001b[0m \u001b[38;5;250m\u001b[39m\u001b[38;5;124;03m\"\"\"Evaluate metric(s) by cross-validation and also record fit/score times.\u001b[39;00m\n\u001b[1;32m    141\u001b[0m \n\u001b[1;32m    142\u001b[0m \u001b[38;5;124;03mRead more in the :ref:`User Guide <multimetric_cross_validation>`.\u001b[39;00m\n\u001b[0;32m   (...)\u001b[0m\n\u001b[1;32m    347\u001b[0m \u001b[38;5;124;03m[0.28009951 0.3908844  0.22784907]\u001b[39;00m\n\u001b[1;32m    348\u001b[0m \u001b[38;5;124;03m\"\"\"\u001b[39;00m\n\u001b[1;32m    349\u001b[0m params \u001b[38;5;241m=\u001b[39m _check_params_groups_deprecation(fit_params, params, groups)\n\u001b[0;32m--> 351\u001b[0m X, y \u001b[38;5;241m=\u001b[39m indexable(X, y)\n\u001b[1;32m    353\u001b[0m cv \u001b[38;5;241m=\u001b[39m check_cv(cv, y, classifier\u001b[38;5;241m=\u001b[39mis_classifier(estimator))\n\u001b[1;32m    355\u001b[0m \u001b[38;5;28;01mif\u001b[39;00m \u001b[38;5;28mcallable\u001b[39m(scoring):\n",
      "File \u001b[0;32m~/miniconda3/envs/beng203/lib/python3.12/site-packages/sklearn/utils/validation.py:517\u001b[0m, in \u001b[0;36mindexable\u001b[0;34m(*iterables)\u001b[0m\n\u001b[1;32m    487\u001b[0m \u001b[38;5;250m\u001b[39m\u001b[38;5;124;03m\"\"\"Make arrays indexable for cross-validation.\u001b[39;00m\n\u001b[1;32m    488\u001b[0m \n\u001b[1;32m    489\u001b[0m \u001b[38;5;124;03mChecks consistent length, passes through None, and ensures that everything\u001b[39;00m\n\u001b[0;32m   (...)\u001b[0m\n\u001b[1;32m    513\u001b[0m \u001b[38;5;124;03m[[1, 2, 3], array([2, 3, 4]), None, <3x1 sparse matrix ...>]\u001b[39;00m\n\u001b[1;32m    514\u001b[0m \u001b[38;5;124;03m\"\"\"\u001b[39;00m\n\u001b[1;32m    516\u001b[0m result \u001b[38;5;241m=\u001b[39m [_make_indexable(X) \u001b[38;5;28;01mfor\u001b[39;00m X \u001b[38;5;129;01min\u001b[39;00m iterables]\n\u001b[0;32m--> 517\u001b[0m check_consistent_length(\u001b[38;5;241m*\u001b[39mresult)\n\u001b[1;32m    518\u001b[0m \u001b[38;5;28;01mreturn\u001b[39;00m result\n",
      "File \u001b[0;32m~/miniconda3/envs/beng203/lib/python3.12/site-packages/sklearn/utils/validation.py:460\u001b[0m, in \u001b[0;36mcheck_consistent_length\u001b[0;34m(*arrays)\u001b[0m\n\u001b[1;32m    458\u001b[0m uniques \u001b[38;5;241m=\u001b[39m np\u001b[38;5;241m.\u001b[39munique(lengths)\n\u001b[1;32m    459\u001b[0m \u001b[38;5;28;01mif\u001b[39;00m \u001b[38;5;28mlen\u001b[39m(uniques) \u001b[38;5;241m>\u001b[39m \u001b[38;5;241m1\u001b[39m:\n\u001b[0;32m--> 460\u001b[0m     \u001b[38;5;28;01mraise\u001b[39;00m \u001b[38;5;167;01mValueError\u001b[39;00m(\n\u001b[1;32m    461\u001b[0m         \u001b[38;5;124m\"\u001b[39m\u001b[38;5;124mFound input variables with inconsistent numbers of samples: \u001b[39m\u001b[38;5;132;01m%r\u001b[39;00m\u001b[38;5;124m\"\u001b[39m\n\u001b[1;32m    462\u001b[0m         \u001b[38;5;241m%\u001b[39m [\u001b[38;5;28mint\u001b[39m(l) \u001b[38;5;28;01mfor\u001b[39;00m l \u001b[38;5;129;01min\u001b[39;00m lengths]\n\u001b[1;32m    463\u001b[0m     )\n",
      "\u001b[0;31mValueError\u001b[0m: Found input variables with inconsistent numbers of samples: [96, 128]"
     ]
    }
   ],
   "source": [
    "clf = SVC(C = 3)\n",
    "scores = cross_val_score(clf, X, y, scoring = 'roc_auc', cv=10)\n",
    "print(\"Average AUROC with 10-fold CV:\", scores.mean())"
   ]
  },
  {
   "cell_type": "markdown",
   "id": "09325af9",
   "metadata": {},
   "source": [
    "### Logistic Regression"
   ]
  },
  {
   "cell_type": "code",
   "execution_count": 26,
   "id": "13eb52d0",
   "metadata": {},
   "outputs": [
    {
     "name": "stdout",
     "output_type": "stream",
     "text": [
      "Average AUROC with 10-fold CV: 0.5404761904761904\n"
     ]
    }
   ],
   "source": [
    "clf = LogisticRegression(C = 6, max_iter = 10000)\n",
    "scores = cross_val_score(clf, X, y, scoring = 'roc_auc', cv=10)\n",
    "print(\"Average AUROC with 10-fold CV:\", scores.mean())"
   ]
  },
  {
   "cell_type": "markdown",
   "id": "0fb237e2",
   "metadata": {},
   "source": [
    "### Random Forest"
   ]
  },
  {
   "cell_type": "code",
   "execution_count": 27,
   "id": "9d999919",
   "metadata": {},
   "outputs": [
    {
     "name": "stdout",
     "output_type": "stream",
     "text": [
      "Average AUROC with 10-fold CV: 0.5714285714285714\n"
     ]
    }
   ],
   "source": [
    "clf = RandomForestClassifier(max_depth = 3)\n",
    "scores = cross_val_score(clf, X, y, scoring = 'roc_auc', cv=10)\n",
    "print(\"Average AUROC with 10-fold CV:\", scores.mean())"
   ]
  },
  {
   "cell_type": "markdown",
   "id": "6957af55",
   "metadata": {},
   "source": [
    "### Gradient Boosted Tree"
   ]
  },
  {
   "cell_type": "code",
   "execution_count": 28,
   "id": "849afd0c",
   "metadata": {},
   "outputs": [
    {
     "name": "stdout",
     "output_type": "stream",
     "text": [
      "Average AUROC with 10-fold CV: 0.6182539682539682\n"
     ]
    }
   ],
   "source": [
    "clf = GradientBoostingClassifier(n_estimators = 50)\n",
    "scores = cross_val_score(clf, X, y, scoring = 'roc_auc', cv=10)\n",
    "print(\"Average AUROC with 10-fold CV:\", scores.mean())"
   ]
  },
  {
   "cell_type": "markdown",
   "id": "e34d7227-546b-4ed1-8637-5b648ac64e4f",
   "metadata": {},
   "source": [
    "### Elastic Net"
   ]
  },
  {
   "cell_type": "code",
   "execution_count": 29,
   "id": "03e02bb1-5906-4ac4-8473-f3f39f13c7e6",
   "metadata": {},
   "outputs": [
    {
     "name": "stdout",
     "output_type": "stream",
     "text": [
      "Average AUROC with 10-fold CV: 0.6182539682539682\n"
     ]
    }
   ],
   "source": [
    "# TODO (does not do CV)\n",
    "clf = ElasticNet()\n",
    "clf.fit(X, y)\n",
    "\n",
    "print(\"Average AUROC with 10-fold CV:\", scores.mean())"
   ]
  },
  {
   "cell_type": "markdown",
   "id": "226cb062",
   "metadata": {},
   "source": [
    "### To Do: Evaluate models with tuned hyperparameters and different fold cross validations.  Also evaluate models on subsets of the features"
   ]
  }
 ],
 "metadata": {
  "kernelspec": {
   "display_name": "Python 3 (ipykernel)",
   "language": "python",
   "name": "python3"
  },
  "language_info": {
   "codemirror_mode": {
    "name": "ipython",
    "version": 3
   },
   "file_extension": ".py",
   "mimetype": "text/x-python",
   "name": "python",
   "nbconvert_exporter": "python",
   "pygments_lexer": "ipython3",
   "version": "3.12.2"
  }
 },
 "nbformat": 4,
 "nbformat_minor": 5
}
