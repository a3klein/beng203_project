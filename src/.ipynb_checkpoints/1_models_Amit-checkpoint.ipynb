{
 "cells": [
  {
   "cell_type": "markdown",
   "id": "8ddbbe80-77ff-443e-ad73-22148c273619",
   "metadata": {},
   "source": [
    "## Predicting Recurrence/Non-Recurrence in Breast Cancer"
   ]
  },
  {
   "cell_type": "code",
   "execution_count": 1,
   "id": "e2158dca-a5ad-4fd2-a246-fe2dc8143a42",
   "metadata": {},
   "outputs": [],
   "source": [
    "# Basic \n",
    "import pandas as pd\n",
    "import numpy as np\n",
    "import pickle\n",
    "\n",
    "# Plotting \n",
    "import matplotlib.pyplot as plt\n",
    "import seaborn as sns\n",
    "\n",
    "# Sklearn \n",
    "from sklearn.ensemble import RandomForestClassifier\n",
    "from sklearn.svm import SVC\n",
    "from sklearn.ensemble import GradientBoostingClassifier\n",
    "from sklearn.preprocessing import StandardScaler\n",
    "from sklearn.model_selection import cross_val_score\n",
    "from sklearn.linear_model import LogisticRegression, ElasticNet\n",
    "from sklearn.decomposition import PCA"
   ]
  },
  {
   "cell_type": "markdown",
   "id": "f50d096f",
   "metadata": {},
   "source": [
    "## Data Preparation"
   ]
  },
  {
   "cell_type": "markdown",
   "id": "5fe70da1-b674-4770-ba3e-3a667fd97985",
   "metadata": {},
   "source": [
    "### Read in Dataset"
   ]
  },
  {
   "cell_type": "code",
   "execution_count": 56,
   "id": "9db07eab-d2a2-40d9-9cd2-9edfbcdc34af",
   "metadata": {},
   "outputs": [],
   "source": [
    "# Dataset Filepaths: \n",
    "big_NR = \"../data/large_transformed_cancer_dataset.pandas\"\n",
    "big_NC = \"../data/large_transformed_dataset.pandas\"\n",
    "big_NR_mod = \"../data/big_transformed_mod_cancer_dataset.pandas\"\n",
    "pr_NR = \"../data/prior_transformed_cancer_dataset.pandas\"\n",
    "pr_NC = \"../data/prior_transformed_dataset.pandas\"\n",
    "ak_NC = \"../data/prior_wgcnaAK_dataset.pandas\"\n",
    "ak_NC_mod = \"../data/prior_wgcnaAK_mod_dataset.pandas\"\n",
    "\n",
    "with open(big_NR_mod, 'rb') as f: \n",
    "    df_data = pickle.load(f)\n",
    "\n",
    "# df_data"
   ]
  },
  {
   "cell_type": "code",
   "execution_count": 57,
   "id": "2ec3a6b8-aea7-4b76-83a1-90350eae57c7",
   "metadata": {},
   "outputs": [],
   "source": [
    "metadata = pd.read_csv(\"../data/metadata.csv\")\n",
    "status = metadata.recurStatus.values\n",
    "y_true = []\n",
    "# Recurrent vs. Non-recurrent \n",
    "for c in status: \n",
    "    if c == 'R': \n",
    "        y_true.append(1)\n",
    "    elif c == \"N\": \n",
    "        y_true.append(0)\n",
    "\n",
    "# For cancer vs. non-cancer\n",
    "# for c in status: \n",
    "#     if c == \"R\" or c == \"N\": \n",
    "#         y_true.append(1)\n",
    "#     else:\n",
    "#         y_true.append(0)"
   ]
  },
  {
   "cell_type": "code",
   "execution_count": 58,
   "id": "cd553592-4d03-4a06-b956-992d4cc30186",
   "metadata": {},
   "outputs": [],
   "source": [
    "X = df_data.values\n",
    "y = y_true"
   ]
  },
  {
   "cell_type": "markdown",
   "id": "1cd20148-cffe-48bd-bf56-a3fe1e5319d0",
   "metadata": {
    "jp-MarkdownHeadingCollapsed": true
   },
   "source": [
    "## Zach stuff"
   ]
  },
  {
   "cell_type": "markdown",
   "id": "fb639b50-f964-4e45-9e18-7c5cd3557777",
   "metadata": {
    "jp-MarkdownHeadingCollapsed": true
   },
   "source": [
    "### Read in cancer data and metadata"
   ]
  },
  {
   "cell_type": "code",
   "execution_count": 98,
   "id": "72a83922-e72c-4bcd-9496-012ab3f71186",
   "metadata": {},
   "outputs": [],
   "source": [
    "cancer = pd.read_csv(\"data/GSE131512_cancerTPM.txt\", sep = '\\t')\n",
    "metadata = pd.read_csv(\"data/metadata.csv\")"
   ]
  },
  {
   "cell_type": "code",
   "execution_count": 99,
   "id": "717a07d8",
   "metadata": {},
   "outputs": [
    {
     "data": {
      "text/plain": [
       "(60675, 96)"
      ]
     },
     "execution_count": 99,
     "metadata": {},
     "output_type": "execute_result"
    }
   ],
   "source": [
    "cancer.shape"
   ]
  },
  {
   "cell_type": "code",
   "execution_count": 100,
   "id": "6d459f98",
   "metadata": {},
   "outputs": [
    {
     "data": {
      "text/plain": [
       "(128, 10)"
      ]
     },
     "execution_count": 100,
     "metadata": {},
     "output_type": "execute_result"
    }
   ],
   "source": [
    "metadata.shape"
   ]
  },
  {
   "cell_type": "markdown",
   "id": "c317da70",
   "metadata": {
    "jp-MarkdownHeadingCollapsed": true
   },
   "source": [
    "### Map each ENSG ID to Gene IDs"
   ]
  },
  {
   "cell_type": "code",
   "execution_count": 101,
   "id": "33237686",
   "metadata": {},
   "outputs": [
    {
     "data": {
      "text/plain": [
       "(41355, 96)"
      ]
     },
     "execution_count": 101,
     "metadata": {},
     "output_type": "execute_result"
    }
   ],
   "source": [
    "ens_to_sym = pd.read_csv(\"data/ensembl_to_symbol.txt\", sep = '\\t')\n",
    "ens_to_sym = ens_to_sym.dropna()\n",
    "ens_to_sym = dict(zip(ens_to_sym.Ensembl, ens_to_sym.Symbol))\n",
    "keep = set(list(cancer.index)).intersection(set(ens_to_sym.keys()))\n",
    "ens_to_sym = {k: ens_to_sym[k] for k in keep}\n",
    "cancer = cancer[cancer.index.isin(ens_to_sym.keys())]\n",
    "cancer = cancer.rename(index=ens_to_sym)\n",
    "cancer.shape"
   ]
  },
  {
   "cell_type": "code",
   "execution_count": 102,
   "id": "90fef9f9",
   "metadata": {},
   "outputs": [
    {
     "data": {
      "text/html": [
       "<div>\n",
       "<style scoped>\n",
       "    .dataframe tbody tr th:only-of-type {\n",
       "        vertical-align: middle;\n",
       "    }\n",
       "\n",
       "    .dataframe tbody tr th {\n",
       "        vertical-align: top;\n",
       "    }\n",
       "\n",
       "    .dataframe thead th {\n",
       "        text-align: right;\n",
       "    }\n",
       "</style>\n",
       "<table border=\"1\" class=\"dataframe\">\n",
       "  <thead>\n",
       "    <tr style=\"text-align: right;\">\n",
       "      <th></th>\n",
       "      <th>C1</th>\n",
       "      <th>C2</th>\n",
       "      <th>C3</th>\n",
       "      <th>C4</th>\n",
       "      <th>C5</th>\n",
       "      <th>C6</th>\n",
       "      <th>C7</th>\n",
       "      <th>C8</th>\n",
       "      <th>C9</th>\n",
       "      <th>C10</th>\n",
       "      <th>...</th>\n",
       "      <th>C87</th>\n",
       "      <th>C88</th>\n",
       "      <th>C89</th>\n",
       "      <th>C90</th>\n",
       "      <th>C91</th>\n",
       "      <th>C92</th>\n",
       "      <th>C93</th>\n",
       "      <th>C94</th>\n",
       "      <th>C95</th>\n",
       "      <th>C96</th>\n",
       "    </tr>\n",
       "  </thead>\n",
       "  <tbody>\n",
       "    <tr>\n",
       "      <th>TSPAN6</th>\n",
       "      <td>7.071605</td>\n",
       "      <td>60.610797</td>\n",
       "      <td>58.255903</td>\n",
       "      <td>29.917356</td>\n",
       "      <td>24.500322</td>\n",
       "      <td>25.311091</td>\n",
       "      <td>37.394452</td>\n",
       "      <td>15.354658</td>\n",
       "      <td>24.839014</td>\n",
       "      <td>24.591295</td>\n",
       "      <td>...</td>\n",
       "      <td>14.134044</td>\n",
       "      <td>10.803910</td>\n",
       "      <td>6.068982</td>\n",
       "      <td>12.714350</td>\n",
       "      <td>15.983392</td>\n",
       "      <td>0.000000</td>\n",
       "      <td>38.189128</td>\n",
       "      <td>15.608352</td>\n",
       "      <td>51.519267</td>\n",
       "      <td>30.805593</td>\n",
       "    </tr>\n",
       "    <tr>\n",
       "      <th>TNMD</th>\n",
       "      <td>13.279391</td>\n",
       "      <td>47.424080</td>\n",
       "      <td>60.455497</td>\n",
       "      <td>6.482332</td>\n",
       "      <td>53.675826</td>\n",
       "      <td>31.686900</td>\n",
       "      <td>32.409716</td>\n",
       "      <td>0.000000</td>\n",
       "      <td>48.976056</td>\n",
       "      <td>46.178684</td>\n",
       "      <td>...</td>\n",
       "      <td>0.000000</td>\n",
       "      <td>12.172853</td>\n",
       "      <td>136.759411</td>\n",
       "      <td>28.650721</td>\n",
       "      <td>0.000000</td>\n",
       "      <td>0.000000</td>\n",
       "      <td>5.976111</td>\n",
       "      <td>6.280734</td>\n",
       "      <td>241.863225</td>\n",
       "      <td>0.000000</td>\n",
       "    </tr>\n",
       "    <tr>\n",
       "      <th>DPM1</th>\n",
       "      <td>0.000000</td>\n",
       "      <td>0.000000</td>\n",
       "      <td>23.040206</td>\n",
       "      <td>8.646690</td>\n",
       "      <td>20.456404</td>\n",
       "      <td>42.266702</td>\n",
       "      <td>21.615428</td>\n",
       "      <td>11.538256</td>\n",
       "      <td>18.665274</td>\n",
       "      <td>76.996356</td>\n",
       "      <td>...</td>\n",
       "      <td>79.657691</td>\n",
       "      <td>8.118597</td>\n",
       "      <td>0.000000</td>\n",
       "      <td>0.000000</td>\n",
       "      <td>0.000000</td>\n",
       "      <td>179.178412</td>\n",
       "      <td>15.942897</td>\n",
       "      <td>0.000000</td>\n",
       "      <td>0.000000</td>\n",
       "      <td>0.000000</td>\n",
       "    </tr>\n",
       "    <tr>\n",
       "      <th>SCYL3</th>\n",
       "      <td>6.212355</td>\n",
       "      <td>2.218590</td>\n",
       "      <td>12.120963</td>\n",
       "      <td>6.065120</td>\n",
       "      <td>16.142519</td>\n",
       "      <td>37.059356</td>\n",
       "      <td>7.580945</td>\n",
       "      <td>0.000000</td>\n",
       "      <td>0.000000</td>\n",
       "      <td>21.603278</td>\n",
       "      <td>...</td>\n",
       "      <td>18.624986</td>\n",
       "      <td>15.660412</td>\n",
       "      <td>33.988677</td>\n",
       "      <td>0.000000</td>\n",
       "      <td>36.858404</td>\n",
       "      <td>83.788404</td>\n",
       "      <td>18.172309</td>\n",
       "      <td>2.938248</td>\n",
       "      <td>14.547636</td>\n",
       "      <td>10.148436</td>\n",
       "    </tr>\n",
       "    <tr>\n",
       "      <th>FIRRM</th>\n",
       "      <td>34.038592</td>\n",
       "      <td>35.828348</td>\n",
       "      <td>55.926653</td>\n",
       "      <td>10.494273</td>\n",
       "      <td>14.482668</td>\n",
       "      <td>19.236768</td>\n",
       "      <td>13.117055</td>\n",
       "      <td>4.667898</td>\n",
       "      <td>18.877984</td>\n",
       "      <td>12.459809</td>\n",
       "      <td>...</td>\n",
       "      <td>17.903438</td>\n",
       "      <td>19.706680</td>\n",
       "      <td>23.062537</td>\n",
       "      <td>1.932615</td>\n",
       "      <td>28.344382</td>\n",
       "      <td>3.020339</td>\n",
       "      <td>27.411791</td>\n",
       "      <td>1.694651</td>\n",
       "      <td>3.729079</td>\n",
       "      <td>7.804221</td>\n",
       "    </tr>\n",
       "  </tbody>\n",
       "</table>\n",
       "<p>5 rows × 96 columns</p>\n",
       "</div>"
      ],
      "text/plain": [
       "               C1         C2         C3         C4         C5         C6  \\\n",
       "TSPAN6   7.071605  60.610797  58.255903  29.917356  24.500322  25.311091   \n",
       "TNMD    13.279391  47.424080  60.455497   6.482332  53.675826  31.686900   \n",
       "DPM1     0.000000   0.000000  23.040206   8.646690  20.456404  42.266702   \n",
       "SCYL3    6.212355   2.218590  12.120963   6.065120  16.142519  37.059356   \n",
       "FIRRM   34.038592  35.828348  55.926653  10.494273  14.482668  19.236768   \n",
       "\n",
       "               C7         C8         C9        C10  ...        C87        C88  \\\n",
       "TSPAN6  37.394452  15.354658  24.839014  24.591295  ...  14.134044  10.803910   \n",
       "TNMD    32.409716   0.000000  48.976056  46.178684  ...   0.000000  12.172853   \n",
       "DPM1    21.615428  11.538256  18.665274  76.996356  ...  79.657691   8.118597   \n",
       "SCYL3    7.580945   0.000000   0.000000  21.603278  ...  18.624986  15.660412   \n",
       "FIRRM   13.117055   4.667898  18.877984  12.459809  ...  17.903438  19.706680   \n",
       "\n",
       "               C89        C90        C91         C92        C93        C94  \\\n",
       "TSPAN6    6.068982  12.714350  15.983392    0.000000  38.189128  15.608352   \n",
       "TNMD    136.759411  28.650721   0.000000    0.000000   5.976111   6.280734   \n",
       "DPM1      0.000000   0.000000   0.000000  179.178412  15.942897   0.000000   \n",
       "SCYL3    33.988677   0.000000  36.858404   83.788404  18.172309   2.938248   \n",
       "FIRRM    23.062537   1.932615  28.344382    3.020339  27.411791   1.694651   \n",
       "\n",
       "               C95        C96  \n",
       "TSPAN6   51.519267  30.805593  \n",
       "TNMD    241.863225   0.000000  \n",
       "DPM1      0.000000   0.000000  \n",
       "SCYL3    14.547636  10.148436  \n",
       "FIRRM     3.729079   7.804221  \n",
       "\n",
       "[5 rows x 96 columns]"
      ]
     },
     "execution_count": 102,
     "metadata": {},
     "output_type": "execute_result"
    }
   ],
   "source": [
    "cancer.head()"
   ]
  },
  {
   "cell_type": "markdown",
   "id": "4f01a914",
   "metadata": {},
   "source": [
    "### Filter for the Prior Association Genes"
   ]
  },
  {
   "cell_type": "code",
   "execution_count": 103,
   "id": "f21b14c6",
   "metadata": {},
   "outputs": [],
   "source": [
    "prior = \"data/prior_association.txt\"\n",
    "with open(prior) as data:\n",
    "    lines = [line.rstrip() for line in data]\n",
    "prior = lines[0]\n",
    "prior = prior.split(\", \")\n",
    "prior = list(set(prior))\n",
    "cancer = cancer[cancer.index.isin(prior)]\n",
    "cancer = cancer.transpose()\n",
    "scaler = StandardScaler()\n",
    "cancer = scaler.fit_transform(cancer)\n",
    "status = list(metadata[\"recurStatus\"])\n",
    "binary = []\n",
    "for c in status:\n",
    "    if c == \"R\":\n",
    "        binary.append(1)\n",
    "    elif c == \"N\":\n",
    "        binary.append(0)\n",
    "X = cancer\n",
    "y = binary"
   ]
  },
  {
   "cell_type": "markdown",
   "id": "1a50e7e3",
   "metadata": {},
   "source": [
    "## Modeling"
   ]
  },
  {
   "cell_type": "markdown",
   "id": "ad615739",
   "metadata": {},
   "source": [
    "Explore some models, such as SVM, Logistic Regression, Random Forest Classifier, and Gradient Boosted Classifier"
   ]
  },
  {
   "cell_type": "markdown",
   "id": "97343b14",
   "metadata": {},
   "source": [
    "### SVM"
   ]
  },
  {
   "cell_type": "code",
   "execution_count": 82,
   "id": "13c7a21f",
   "metadata": {},
   "outputs": [
    {
     "name": "stdout",
     "output_type": "stream",
     "text": [
      "0.01\n",
      "Average AUROC with 10-fold CV: 0.6166666666666667\n",
      "0.1\n",
      "Average AUROC with 10-fold CV: 0.6214285714285714\n",
      "1.0\n",
      "Average AUROC with 10-fold CV: 0.6261904761904762\n",
      "10.0\n",
      "Average AUROC with 10-fold CV: 0.5952380952380952\n",
      "100.0\n",
      "Average AUROC with 10-fold CV: 0.5833333333333333\n",
      "1000.0\n",
      "Average AUROC with 10-fold CV: 0.5896825396825397\n"
     ]
    }
   ],
   "source": [
    "for c in np.logspace(-2, 3, 6):\n",
    "    print(c)\n",
    "    clf = SVC(C = c)\n",
    "    scores = cross_val_score(clf, X, y, scoring = 'roc_auc', cv=10)\n",
    "    print(\"Average AUROC with 10-fold CV:\", scores.mean())"
   ]
  },
  {
   "cell_type": "markdown",
   "id": "09325af9",
   "metadata": {},
   "source": [
    "### Logistic Regression"
   ]
  },
  {
   "cell_type": "code",
   "execution_count": 81,
   "id": "13eb52d0",
   "metadata": {},
   "outputs": [
    {
     "name": "stdout",
     "output_type": "stream",
     "text": [
      "0.01\n",
      "Average AUROC with 10-fold CV: 0.6841269841269841\n",
      "0.1\n",
      "Average AUROC with 10-fold CV: 0.6841269841269841\n",
      "1.0\n",
      "Average AUROC with 10-fold CV: 0.6841269841269841\n",
      "10.0\n",
      "Average AUROC with 10-fold CV: 0.6841269841269841\n",
      "100.0\n",
      "Average AUROC with 10-fold CV: 0.6841269841269841\n",
      "1000.0\n",
      "Average AUROC with 10-fold CV: 0.6841269841269841\n"
     ]
    }
   ],
   "source": [
    "for c in np.logspace(-2, 3, 6):\n",
    "    print(c)\n",
    "    clf = LogisticRegression(C = c, max_iter = 10000)\n",
    "    scores = cross_val_score(clf, X, y, scoring = 'roc_auc', cv=10)\n",
    "    print(\"Average AUROC with 10-fold CV:\", scores.mean())"
   ]
  },
  {
   "cell_type": "markdown",
   "id": "0fb237e2",
   "metadata": {},
   "source": [
    "### Random Forest"
   ]
  },
  {
   "cell_type": "code",
   "execution_count": 70,
   "id": "9d999919",
   "metadata": {},
   "outputs": [
    {
     "name": "stdout",
     "output_type": "stream",
     "text": [
      "Average AUROC with 10-fold CV: 0.7333333333333333\n"
     ]
    }
   ],
   "source": [
    "clf = RandomForestClassifier(max_depth = 5)\n",
    "scores = cross_val_score(clf, X, y, scoring = 'roc_auc', cv=10)\n",
    "print(\"Average AUROC with 10-fold CV:\", scores.mean())"
   ]
  },
  {
   "cell_type": "markdown",
   "id": "6957af55",
   "metadata": {},
   "source": [
    "### Gradient Boosted Tree"
   ]
  },
  {
   "cell_type": "code",
   "execution_count": 66,
   "id": "849afd0c",
   "metadata": {},
   "outputs": [
    {
     "name": "stdout",
     "output_type": "stream",
     "text": [
      "Average AUROC with 10-fold CV: 0.7357142857142857\n"
     ]
    }
   ],
   "source": [
    "clf = GradientBoostingClassifier(n_estimators = 50)\n",
    "scores = cross_val_score(clf, X, y, scoring = 'roc_auc', cv=10)\n",
    "print(\"Average AUROC with 10-fold CV:\", scores.mean())"
   ]
  },
  {
   "cell_type": "markdown",
   "id": "e34d7227-546b-4ed1-8637-5b648ac64e4f",
   "metadata": {},
   "source": [
    "### Elastic Net"
   ]
  },
  {
   "cell_type": "code",
   "execution_count": 63,
   "id": "03e02bb1-5906-4ac4-8473-f3f39f13c7e6",
   "metadata": {},
   "outputs": [
    {
     "name": "stdout",
     "output_type": "stream",
     "text": [
      "Average AUROC with 10-fold CV: 0.4984126984126984\n"
     ]
    }
   ],
   "source": [
    "clf = LogisticRegression(C = 6, max_iter = 10000, penalty=\"elasticnet\", solver='saga', l1_ratio=0.5)\n",
    "scores = cross_val_score(clf, X, y, scoring = 'roc_auc', cv=10)\n",
    "print(\"Average AUROC with 10-fold CV:\", scores.mean())"
   ]
  },
  {
   "cell_type": "markdown",
   "id": "226cb062",
   "metadata": {},
   "source": [
    "### To Do: Evaluate models with tuned hyperparameters and different fold cross validations.  Also evaluate models on subsets of the features"
   ]
  }
 ],
 "metadata": {
  "kernelspec": {
   "display_name": "Python 3 (ipykernel)",
   "language": "python",
   "name": "python3"
  },
  "language_info": {
   "codemirror_mode": {
    "name": "ipython",
    "version": 3
   },
   "file_extension": ".py",
   "mimetype": "text/x-python",
   "name": "python",
   "nbconvert_exporter": "python",
   "pygments_lexer": "ipython3",
   "version": "3.12.2"
  }
 },
 "nbformat": 4,
 "nbformat_minor": 5
}
