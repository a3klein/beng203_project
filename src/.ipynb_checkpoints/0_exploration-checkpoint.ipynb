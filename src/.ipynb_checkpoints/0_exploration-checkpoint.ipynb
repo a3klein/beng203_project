{
 "cells": [
  {
   "cell_type": "code",
   "execution_count": 1,
   "id": "4ee56f49-493b-46d3-b9eb-573942ba6e7e",
   "metadata": {},
   "outputs": [],
   "source": [
    "import os\n",
    "import sys\n",
    "\n",
    "import numpy as np\n",
    "import pandas as pd\n",
    "\n",
    "\n",
    "import matplotlib.pyplot as plt\n",
    "import seaborn as sns "
   ]
  },
  {
   "cell_type": "markdown",
   "id": "f2c12b81-326d-4780-bfc8-7479b7c5b8d8",
   "metadata": {},
   "source": [
    "# Reading the DATA: "
   ]
  },
  {
   "cell_type": "code",
   "execution_count": null,
   "id": "25ad637b-87e5-4e6c-bac8-f1bcbb923f6f",
   "metadata": {},
   "outputs": [],
   "source": [
    "# The data comes from "
   ]
  }
 ],
 "metadata": {
  "kernelspec": {
   "display_name": "Python 3 (ipykernel)",
   "language": "python",
   "name": "python3"
  },
  "language_info": {
   "codemirror_mode": {
    "name": "ipython",
    "version": 3
   },
   "file_extension": ".py",
   "mimetype": "text/x-python",
   "name": "python",
   "nbconvert_exporter": "python",
   "pygments_lexer": "ipython3",
   "version": "3.12.2"
  }
 },
 "nbformat": 4,
 "nbformat_minor": 5
}
